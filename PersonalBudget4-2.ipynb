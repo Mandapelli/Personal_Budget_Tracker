{
 "cells": [
  {
   "cell_type": "code",
   "execution_count": 3,
   "id": "4d30d913-4d66-4cea-931e-dc679ecbf27b",
   "metadata": {},
   "outputs": [
    {
     "name": "stdout",
     "output_type": "stream",
     "text": [
      "\n",
      "--- Expense Tracker ---\n",
      "1: To add Expenses\n",
      "2: To View Savings\n",
      "3: To View Expenses\n",
      "4: To Exit\n"
     ]
    },
    {
     "name": "stdin",
     "output_type": "stream",
     "text": [
      "Choose a Number:  1\n",
      "Enter date (YYYY-MM-DD):  2024-10-9\n",
      "Enter your Expenses:  4000\n",
      "Enter the description:  travel\n"
     ]
    },
    {
     "name": "stdout",
     "output_type": "stream",
     "text": [
      "Expense added successfully!\n",
      "\n",
      "--- Expense Tracker ---\n",
      "1: To add Expenses\n",
      "2: To View Savings\n",
      "3: To View Expenses\n",
      "4: To Exit\n"
     ]
    },
    {
     "name": "stdin",
     "output_type": "stream",
     "text": [
      "Choose a Number:  1\n",
      "Enter date (YYYY-MM-DD):  2024-10-5\n",
      "Enter your Expenses:  300\n",
      "Enter the description:  food\n"
     ]
    },
    {
     "name": "stdout",
     "output_type": "stream",
     "text": [
      "Expense added successfully!\n",
      "\n",
      "--- Expense Tracker ---\n",
      "1: To add Expenses\n",
      "2: To View Savings\n",
      "3: To View Expenses\n",
      "4: To Exit\n"
     ]
    },
    {
     "name": "stdin",
     "output_type": "stream",
     "text": [
      "Choose a Number:  2\n"
     ]
    },
    {
     "name": "stdout",
     "output_type": "stream",
     "text": [
      "Fixed Income: 50000\n",
      "Total Expenses: 8600\n",
      "Remaining Savings: 41400\n",
      "\n",
      "--- Expense Tracker ---\n",
      "1: To add Expenses\n",
      "2: To View Savings\n",
      "3: To View Expenses\n",
      "4: To Exit\n"
     ]
    },
    {
     "name": "stdin",
     "output_type": "stream",
     "text": [
      "Choose a Number:  3\n"
     ]
    },
    {
     "name": "stdout",
     "output_type": "stream",
     "text": [
      "Date\tIncome\tExpense\tDescription\n",
      "2024-10-10\t50000\t4000\tfood\n",
      "2024-10-15\t50000\t300\twater\n",
      "2024-10-9\t50000\t4000\ttravel\n",
      "2024-10-5\t50000\t300\tfood\n",
      "\n",
      "--- Expense Tracker ---\n",
      "1: To add Expenses\n",
      "2: To View Savings\n",
      "3: To View Expenses\n",
      "4: To Exit\n"
     ]
    },
    {
     "name": "stdin",
     "output_type": "stream",
     "text": [
      "Choose a Number:  4\n"
     ]
    },
    {
     "name": "stdout",
     "output_type": "stream",
     "text": [
      "Exiting the program. Have a nice day!\n"
     ]
    }
   ],
   "source": [
    "import csv\n",
    "\n",
    "# Fixed income\n",
    "FIXED_INCOME = 50000\n",
    "\n",
    "# Function to add expenses\n",
    "def add_expenses(date, expense, description):\n",
    "    with open(\"Expenses.csv\", 'a', newline=\"\") as file:\n",
    "        writer = csv.writer(file)\n",
    "        writer.writerow([date, FIXED_INCOME, expense, description])\n",
    "    print(\"Expense added successfully!\")\n",
    "\n",
    "# Function to calculate and view savings\n",
    "def savings():\n",
    "    try:\n",
    "        with open(\"Expenses.csv\", 'r') as file:\n",
    "            reader = csv.reader(file)\n",
    "            expenses = [int(row[2]) for row in reader]  # List comprehension to extract expenses\n",
    "        total_expenses = sum(expenses)  # Sum the expenses\n",
    "        total_savings = FIXED_INCOME - total_expenses\n",
    "        print(f\"Fixed Income: {FIXED_INCOME}\")\n",
    "        print(f\"Total Expenses: {total_expenses}\")\n",
    "        print(f\"Remaining Savings: {total_savings}\")\n",
    "    except FileNotFoundError:\n",
    "        print(\"No expenses recorded yet!\")\n",
    "\n",
    "# Function to view expenses\n",
    "def view_expenses():\n",
    "    try:\n",
    "        with open(\"Expenses.csv\", 'r') as file:\n",
    "            reader = csv.reader(file)\n",
    "            print(\"Date\\tIncome\\tExpense\\tDescription\")\n",
    "            for row in reader:\n",
    "                print(\"\\t\".join(row))\n",
    "    except FileNotFoundError:\n",
    "        print(\"No expenses recorded yet.\")\n",
    "\n",
    "# Main program logic with a loop\n",
    "while True:\n",
    "    print(\"\\n--- Expense Tracker ---\")\n",
    "    print(\"1: To add Expenses\")\n",
    "    print(\"2: To View Savings\")\n",
    "    print(\"3: To View Expenses\")\n",
    "    print(\"4: To Exit\")\n",
    "\n",
    "    try:\n",
    "        res = int(input(\"Choose a Number: \"))\n",
    "    except ValueError:\n",
    "        print(\"Please enter a valid number.\")\n",
    "        continue\n",
    "\n",
    "    if res == 1:\n",
    "        date = input(\"Enter date (YYYY-MM-DD): \")\n",
    "        try:\n",
    "            expense = int(input(\"Enter your Expenses: \"))\n",
    "            description = input(\"Enter the description: \")\n",
    "            add_expenses(date, expense, description)\n",
    "        except ValueError:\n",
    "            print(\"Please enter a valid number for expenses.\")\n",
    "\n",
    "    elif res == 2:\n",
    "        savings()\n",
    "\n",
    "    elif res == 3:\n",
    "        view_expenses()\n",
    "\n",
    "    elif res == 4:\n",
    "        print(\"Exiting the program. Have a nice day!\")\n",
    "        break  # Exit the loop and program\n",
    "\n",
    "    else:\n",
    "        print(\"Enter a valid option.\")\n"
   ]
  },
  {
   "cell_type": "code",
   "execution_count": null,
   "id": "ee72e674-1c5c-4949-a174-7c901d2663de",
   "metadata": {},
   "outputs": [],
   "source": []
  }
 ],
 "metadata": {
  "kernelspec": {
   "display_name": "Python 3 (ipykernel)",
   "language": "python",
   "name": "python3"
  },
  "language_info": {
   "codemirror_mode": {
    "name": "ipython",
    "version": 3
   },
   "file_extension": ".py",
   "mimetype": "text/x-python",
   "name": "python",
   "nbconvert_exporter": "python",
   "pygments_lexer": "ipython3",
   "version": "3.12.4"
  }
 },
 "nbformat": 4,
 "nbformat_minor": 5
}
